{
 "cells": [
  {
   "cell_type": "markdown",
   "id": "ae5add94",
   "metadata": {},
   "source": [
    "# 101 pandas exercises\n",
    "https://www.machinelearningplus.com/python/101-pandas-exercises-python/"
   ]
  },
  {
   "cell_type": "code",
   "execution_count": 1,
   "id": "1b9de3bf",
   "metadata": {},
   "outputs": [
    {
     "name": "stdout",
     "output_type": "stream",
     "text": [
      "1.0.5\n",
      "{'system': {'commit': None, 'python': '3.8.8.final.0', 'python-bits': 64, 'OS': 'Darwin', 'OS-release': '20.5.0', 'machine': 'x86_64', 'processor': 'i386', 'byteorder': 'little', 'LC_ALL': 'None', 'LANG': 'en_US.UTF-8', 'LOCALE': 'en_US.UTF-8'}, 'dependencies': {'pandas': '1.0.5', 'numpy': '1.19.1', 'pytz': '2021.1', 'dateutil': '2.8.1', 'pip': '21.0.1', 'setuptools': '52.0.0.post20210125', 'Cython': '0.29.23', 'pytest': '5.4.3', 'hypothesis': None, 'sphinx': '4.0.1', 'blosc': None, 'feather': None, 'xlsxwriter': '1.3.8', 'lxml.etree': '4.6.3', 'html5lib': '1.1', 'pymysql': '1.0.2', 'psycopg2': None, 'jinja2': '2.11.3', 'IPython': '7.22.0', 'pandas_datareader': None, 'bs4': '4.9.3', 'bottleneck': '1.3.2', 'fastparquet': None, 'gcsfs': None, 'matplotlib': '3.3.4', 'numexpr': '2.7.3', 'odfpy': None, 'openpyxl': '3.0.7', 'pandas_gbq': None, 'pyarrow': None, 'pytables': None, 'pyxlsb': None, 's3fs': None, 'scipy': '1.5.4', 'sqlalchemy': '1.4.7', 'tables': '3.6.1', 'tabulate': '0.8.9', 'xarray': None, 'xlrd': '2.0.1', 'xlwt': '1.3.0', 'numba': '0.53.1'}}\n",
      "None\n"
     ]
    }
   ],
   "source": [
    "#1\n",
    "# import pandas and check the version\n",
    "import numpy as np\n",
    "import pandas as pd\n",
    "\n",
    "print(pd.__version__)\n",
    "print(pd.show_versions(as_json=True))"
   ]
  },
  {
   "cell_type": "code",
   "execution_count": 2,
   "id": "1777263e",
   "metadata": {},
   "outputs": [
    {
     "name": "stdout",
     "output_type": "stream",
     "text": [
      "a    0\n",
      "b    1\n",
      "c    2\n",
      "e    3\n",
      "d    4\n",
      "dtype: int64\n"
     ]
    }
   ],
   "source": [
    "#2\n",
    "# Create a pandas series from each of the items below: a list, numpy and a dictionary\n",
    "# input from question\n",
    "mylist = list('abcedfghijklmnopqrstuvwxyz')\n",
    "myarr = np.arange(26)\n",
    "mydict = dict(zip(mylist, myarr))\n",
    "# answer below\n",
    "ser1 = pd.Series(mylist)\n",
    "ser2 = pd.Series(myarr)\n",
    "ser3 = pd.Series(mydict)\n",
    "\n",
    "print(ser3.head())"
   ]
  },
  {
   "cell_type": "code",
   "execution_count": 3,
   "id": "4d03c63f",
   "metadata": {},
   "outputs": [
    {
     "name": "stdout",
     "output_type": "stream",
     "text": [
      "  index  0\n",
      "0     a  0\n",
      "1     b  1\n",
      "2     c  2\n",
      "3     e  3\n",
      "4     d  4\n"
     ]
    }
   ],
   "source": [
    "#3\n",
    "# convert the index of a series into the column of a dataframe\n",
    "# input from question\n",
    "mylist = list('abcedfghijklmnopqrstuvwxyz')\n",
    "myarr = np.arange(26)\n",
    "mydict = dict(zip(mylist, myarr))\n",
    "ser = pd.Series(mydict)\n",
    "# answer below\n",
    "df = ser.to_frame().reset_index()\n",
    "print(df.head())"
   ]
  },
  {
   "cell_type": "code",
   "execution_count": 4,
   "id": "39d3d4c9",
   "metadata": {},
   "outputs": [
    {
     "name": "stdout",
     "output_type": "stream",
     "text": [
      "  col1  col2\n",
      "0    a     0\n",
      "1    b     1\n",
      "2    c     2\n",
      "3    e     3\n",
      "4    d     4\n"
     ]
    }
   ],
   "source": [
    "#4\n",
    "# combine many series to form a dataframe\n",
    "# input from question\n",
    "ser1 = pd.Series(list('abcedfghijklmnopqrstuvwxyz'))\n",
    "ser2 = pd.Series(np.arange(26))\n",
    "# answer below\n",
    "# solution 1\n",
    "# df = pd.concat([ser1, ser2], axis=1)\n",
    "# solution 2\n",
    "df = pd.DataFrame({'col1': ser1, 'col2': ser2})\n",
    "print(df.head())"
   ]
  },
  {
   "cell_type": "code",
   "execution_count": 5,
   "id": "0049dea2",
   "metadata": {},
   "outputs": [
    {
     "data": {
      "text/plain": [
       "0    a\n",
       "1    b\n",
       "2    c\n",
       "3    e\n",
       "4    d\n",
       "Name: alphabets, dtype: object"
      ]
     },
     "execution_count": 5,
     "metadata": {},
     "output_type": "execute_result"
    }
   ],
   "source": [
    "#5\n",
    "# Give a name to the series ser calling it ‘alphabets’.\n",
    "ser = pd.Series(list('abcedfghijklmnopqrstuvwxyz'))\n",
    "\n",
    "ser.name = 'alphabets'\n",
    "ser.head()"
   ]
  },
  {
   "cell_type": "code",
   "execution_count": 6,
   "id": "67b9cd13",
   "metadata": {},
   "outputs": [
    {
     "data": {
      "text/plain": [
       "0    1\n",
       "1    2\n",
       "2    3\n",
       "dtype: int64"
      ]
     },
     "execution_count": 6,
     "metadata": {},
     "output_type": "execute_result"
    }
   ],
   "source": [
    "#6\n",
    "# How to get the items of series A not present in series B?\n",
    "\n",
    "# From ser1 remove items present in ser2.\n",
    "serA = pd.Series([1, 2, 3, 4, 5])\n",
    "serB = pd.Series([4, 5, 6, 7, 8])\n",
    "\n",
    "serA[~serA.isin(serB)]"
   ]
  },
  {
   "cell_type": "code",
   "execution_count": 7,
   "id": "e99df010",
   "metadata": {},
   "outputs": [
    {
     "data": {
      "text/plain": [
       "0    1\n",
       "1    2\n",
       "2    3\n",
       "5    6\n",
       "6    7\n",
       "7    8\n",
       "dtype: int64"
      ]
     },
     "execution_count": 7,
     "metadata": {},
     "output_type": "execute_result"
    }
   ],
   "source": [
    "#7\n",
    "# How to get the items not common to both series A and series B?\n",
    "serA = pd.Series([1, 2, 3, 4, 5])\n",
    "serB = pd.Series([4, 5, 6, 7, 8])\n",
    "\n",
    "serU = pd.Series(np.union1d(serA, serB))     # union\n",
    "serI = pd.Series(np.intersect1d(serA, serB)) # intersection\n",
    "serU[~serU.isin(serI)] #, serU, serI"
   ]
  },
  {
   "cell_type": "code",
   "execution_count": 8,
   "id": "7b735610",
   "metadata": {},
   "outputs": [
    {
     "data": {
      "text/plain": [
       "array([-2.13249056,  7.19480249, 11.41501582, 13.91327467, 20.5918104 ])"
      ]
     },
     "execution_count": 8,
     "metadata": {},
     "output_type": "execute_result"
    }
   ],
   "source": [
    "#8\n",
    "# How to get the minimum, 25th percentile, median, 75th, and max of a numeric series?\n",
    "\n",
    "ser = pd.Series(np.random.normal(10, 5, 25))\n",
    "\n",
    "np.percentile(ser, q=[0, 25, 50, 75, 100])"
   ]
  },
  {
   "cell_type": "code",
   "execution_count": 9,
   "id": "f5e81dfb",
   "metadata": {},
   "outputs": [
    {
     "data": {
      "text/plain": [
       "h    8\n",
       "f    6\n",
       "b    5\n",
       "a    4\n",
       "d    3\n",
       "g    2\n",
       "e    1\n",
       "c    1\n",
       "dtype: int64"
      ]
     },
     "execution_count": 9,
     "metadata": {},
     "output_type": "execute_result"
    }
   ],
   "source": [
    "#9 \n",
    "# How to get frequency counts of unique items of a series?\n",
    "# 'take' gets a letter from list matching the randomly generated number\n",
    "# i.e. 0 gets 'a' and 7 gets 'h'\n",
    "ser = pd.Series(np.take(list('abcdefgh'), np.random.randint(8, size=30)))\n",
    "ser.value_counts()"
   ]
  },
  {
   "cell_type": "code",
   "execution_count": 10,
   "id": "f8b4fced",
   "metadata": {},
   "outputs": [
    {
     "data": {
      "text/plain": [
       "0         3\n",
       "1         3\n",
       "2     Other\n",
       "3         3\n",
       "4         4\n",
       "5         3\n",
       "6         4\n",
       "7         3\n",
       "8         3\n",
       "9     Other\n",
       "10        3\n",
       "11        4\n",
       "dtype: object"
      ]
     },
     "execution_count": 10,
     "metadata": {},
     "output_type": "execute_result"
    }
   ],
   "source": [
    "#10\n",
    "# How to keep only top 2 most frequent values as it is and replace everything else as ‘Other’?\n",
    "np.random.RandomState(100)\n",
    "ser = pd.Series(np.random.randint(1, 5, [12]))\n",
    "ser[~ser.isin(ser.value_counts().index[:2])] = 'Other'\n",
    "ser"
   ]
  },
  {
   "cell_type": "code",
   "execution_count": 11,
   "id": "46de2fd2",
   "metadata": {},
   "outputs": [
    {
     "data": {
      "text/plain": [
       "0     (0.603, 0.884]\n",
       "1     (0.373, 0.466]\n",
       "2     (0.603, 0.884]\n",
       "3     (0.332, 0.373]\n",
       "4      (0.29, 0.332]\n",
       "5     (0.332, 0.373]\n",
       "6     (0.168, 0.198]\n",
       "7     (0.934, 0.982]\n",
       "8     (0.884, 0.934]\n",
       "9     (0.934, 0.982]\n",
       "10    (0.518, 0.603]\n",
       "11    (0.168, 0.198]\n",
       "12     (0.29, 0.332]\n",
       "13     (0.198, 0.29]\n",
       "14    (0.466, 0.518]\n",
       "15    (0.518, 0.603]\n",
       "16    (0.884, 0.934]\n",
       "17     (0.198, 0.29]\n",
       "18    (0.373, 0.466]\n",
       "19    (0.466, 0.518]\n",
       "dtype: category\n",
       "Categories (10, interval[float64]): [(0.168, 0.198] < (0.198, 0.29] < (0.29, 0.332] < (0.332, 0.373] ... (0.518, 0.603] < (0.603, 0.884] < (0.884, 0.934] < (0.934, 0.982]]"
      ]
     },
     "execution_count": 11,
     "metadata": {},
     "output_type": "execute_result"
    }
   ],
   "source": [
    "#11\n",
    "# How to bin a numeric series to 10 groups of equal size?\n",
    "ser = pd.Series(np.random.random(20))\n",
    "#pd.qcut(ser, q=[0, .1, .2, .3, .4, .5, .6, .7, .8, .9, 1], labels=['1rst', '2nd', '3rd', '4th', '5th', '6th', '7th', '8th', '9th', '10th'])\n",
    "pd.qcut(ser, q=[0, .1, .2, .3, .4, .5, .6, .7, .8, .9, 1])\n"
   ]
  },
  {
   "cell_type": "code",
   "execution_count": 12,
   "id": "3c0c2709",
   "metadata": {},
   "outputs": [
    {
     "data": {
      "text/plain": [
       "array([[9, 5, 6, 4, 3],\n",
       "       [5, 7, 2, 9, 8],\n",
       "       [7, 9, 8, 7, 6],\n",
       "       [5, 4, 5, 2, 8],\n",
       "       [6, 4, 9, 6, 5],\n",
       "       [3, 3, 5, 4, 4],\n",
       "       [8, 8, 1, 3, 3]])"
      ]
     },
     "execution_count": 12,
     "metadata": {},
     "output_type": "execute_result"
    }
   ],
   "source": [
    "#12\n",
    "# How to convert a numpy array to a dataframe of given shape?\n",
    "ser = pd.Series(np.random.randint(1, 10, 35))\n",
    "# '.values' is there to transform series type to ndarray type\n",
    "# you will get an error if you try to reshape a series, but you can reshape a ndarray\n",
    "ser.values.reshape(7, 5)"
   ]
  },
  {
   "cell_type": "code",
   "execution_count": 13,
   "id": "34546bb9",
   "metadata": {},
   "outputs": [],
   "source": [
    "#13\n",
    "# Stack ser1 and ser2 vertically and horizontally (to form a dataframe).\n",
    "ser1 = pd.Series(range(5))\n",
    "ser2 = pd.Series(list('abcde'))\n",
    "\n",
    "vertical = ser1.append(ser2)\n",
    "horizontal = pd.concat([ser1, ser2], axis=1)"
   ]
  },
  {
   "cell_type": "code",
   "execution_count": 14,
   "id": "1799c3eb",
   "metadata": {},
   "outputs": [
    {
     "data": {
      "text/plain": [
       "0    0\n",
       "1    1\n",
       "2    2\n",
       "3    3\n",
       "4    4\n",
       "0    a\n",
       "1    b\n",
       "2    c\n",
       "3    d\n",
       "4    e\n",
       "dtype: object"
      ]
     },
     "execution_count": 14,
     "metadata": {},
     "output_type": "execute_result"
    }
   ],
   "source": [
    "vertical"
   ]
  },
  {
   "cell_type": "code",
   "execution_count": 68,
   "id": "c563dfb9",
   "metadata": {},
   "outputs": [
    {
     "data": {
      "text/html": [
       "<div>\n",
       "<style scoped>\n",
       "    .dataframe tbody tr th:only-of-type {\n",
       "        vertical-align: middle;\n",
       "    }\n",
       "\n",
       "    .dataframe tbody tr th {\n",
       "        vertical-align: top;\n",
       "    }\n",
       "\n",
       "    .dataframe thead th {\n",
       "        text-align: right;\n",
       "    }\n",
       "</style>\n",
       "<table border=\"1\" class=\"dataframe\">\n",
       "  <thead>\n",
       "    <tr style=\"text-align: right;\">\n",
       "      <th></th>\n",
       "      <th>0</th>\n",
       "      <th>1</th>\n",
       "    </tr>\n",
       "  </thead>\n",
       "  <tbody>\n",
       "    <tr>\n",
       "      <th>0</th>\n",
       "      <td>0</td>\n",
       "      <td>a</td>\n",
       "    </tr>\n",
       "    <tr>\n",
       "      <th>1</th>\n",
       "      <td>1</td>\n",
       "      <td>b</td>\n",
       "    </tr>\n",
       "    <tr>\n",
       "      <th>2</th>\n",
       "      <td>2</td>\n",
       "      <td>c</td>\n",
       "    </tr>\n",
       "    <tr>\n",
       "      <th>3</th>\n",
       "      <td>3</td>\n",
       "      <td>d</td>\n",
       "    </tr>\n",
       "    <tr>\n",
       "      <th>4</th>\n",
       "      <td>4</td>\n",
       "      <td>e</td>\n",
       "    </tr>\n",
       "  </tbody>\n",
       "</table>\n",
       "</div>"
      ],
      "text/plain": [
       "   0  1\n",
       "0  0  a\n",
       "1  1  b\n",
       "2  2  c\n",
       "3  3  d\n",
       "4  4  e"
      ]
     },
     "execution_count": 68,
     "metadata": {},
     "output_type": "execute_result"
    }
   ],
   "source": [
    "horizontal"
   ]
  },
  {
   "cell_type": "code",
   "execution_count": 15,
   "id": "e644fd73",
   "metadata": {},
   "outputs": [
    {
     "data": {
      "text/plain": [
       "0     a\n",
       "4     e\n",
       "8     i\n",
       "14    o\n",
       "20    u\n",
       "dtype: object"
      ]
     },
     "execution_count": 15,
     "metadata": {},
     "output_type": "execute_result"
    }
   ],
   "source": [
    "#14\n",
    "# extract the items at positions in list pos\n",
    "ser = pd.Series(list('abcdefghijklmnopqrstuvwxyz'))\n",
    "pos = [0, 4, 8, 14, 20]\n",
    "ser.take(pos)"
   ]
  },
  {
   "cell_type": "code",
   "execution_count": 16,
   "id": "7da0dfd3",
   "metadata": {},
   "outputs": [],
   "source": [
    "#15\n",
    "# Stack ser1 and ser2 vertically and horizontally (to form a dataframe). Input\n",
    "ser1 = pd.Series(range(5))\n",
    "ser2 = pd.Series(list('abcde'))"
   ]
  },
  {
   "cell_type": "code",
   "execution_count": 17,
   "id": "f4e6fd23",
   "metadata": {},
   "outputs": [
    {
     "data": {
      "text/plain": [
       "0    0\n",
       "1    1\n",
       "2    2\n",
       "3    3\n",
       "4    4\n",
       "0    a\n",
       "1    b\n",
       "2    c\n",
       "3    d\n",
       "4    e\n",
       "dtype: object"
      ]
     },
     "execution_count": 17,
     "metadata": {},
     "output_type": "execute_result"
    }
   ],
   "source": [
    "#15 vertically\n",
    "ser1.append(ser2)"
   ]
  },
  {
   "cell_type": "code",
   "execution_count": 18,
   "id": "f4ec4703",
   "metadata": {},
   "outputs": [
    {
     "data": {
      "text/html": [
       "<div>\n",
       "<style scoped>\n",
       "    .dataframe tbody tr th:only-of-type {\n",
       "        vertical-align: middle;\n",
       "    }\n",
       "\n",
       "    .dataframe tbody tr th {\n",
       "        vertical-align: top;\n",
       "    }\n",
       "\n",
       "    .dataframe thead th {\n",
       "        text-align: right;\n",
       "    }\n",
       "</style>\n",
       "<table border=\"1\" class=\"dataframe\">\n",
       "  <thead>\n",
       "    <tr style=\"text-align: right;\">\n",
       "      <th></th>\n",
       "      <th>0</th>\n",
       "      <th>1</th>\n",
       "    </tr>\n",
       "  </thead>\n",
       "  <tbody>\n",
       "    <tr>\n",
       "      <th>0</th>\n",
       "      <td>0</td>\n",
       "      <td>a</td>\n",
       "    </tr>\n",
       "    <tr>\n",
       "      <th>1</th>\n",
       "      <td>1</td>\n",
       "      <td>b</td>\n",
       "    </tr>\n",
       "    <tr>\n",
       "      <th>2</th>\n",
       "      <td>2</td>\n",
       "      <td>c</td>\n",
       "    </tr>\n",
       "    <tr>\n",
       "      <th>3</th>\n",
       "      <td>3</td>\n",
       "      <td>d</td>\n",
       "    </tr>\n",
       "    <tr>\n",
       "      <th>4</th>\n",
       "      <td>4</td>\n",
       "      <td>e</td>\n",
       "    </tr>\n",
       "  </tbody>\n",
       "</table>\n",
       "</div>"
      ],
      "text/plain": [
       "   0  1\n",
       "0  0  a\n",
       "1  1  b\n",
       "2  2  c\n",
       "3  3  d\n",
       "4  4  e"
      ]
     },
     "execution_count": 18,
     "metadata": {},
     "output_type": "execute_result"
    }
   ],
   "source": [
    "#15 horizontally\n",
    "pd.concat([ser1, ser2], axis=1)"
   ]
  },
  {
   "cell_type": "code",
   "execution_count": 27,
   "id": "6bc8f319",
   "metadata": {},
   "outputs": [
    {
     "data": {
      "text/plain": [
       "[5, 4, 0, 8]"
      ]
     },
     "execution_count": 27,
     "metadata": {},
     "output_type": "execute_result"
    }
   ],
   "source": [
    "#16\n",
    "# Get the positions of items of ser2 in ser1 as a list.\n",
    "ser1 = pd.Series([10, 9, 6, 5, 3, 1, 12, 8, 13])\n",
    "ser2 = pd.Series([1, 3, 10, 13])\n",
    "\n",
    "# Alternate method\n",
    "# [pd.Index(ser1).get_loc(i) for i in ser2]\n",
    "\n",
    "[np.where(i == ser1)[0].tolist()[0] for i in ser2]"
   ]
  },
  {
   "cell_type": "code",
   "execution_count": 30,
   "id": "51b208b1",
   "metadata": {},
   "outputs": [
    {
     "data": {
      "text/plain": [
       "0.3164583073062784"
      ]
     },
     "execution_count": 30,
     "metadata": {},
     "output_type": "execute_result"
    }
   ],
   "source": [
    "#17\n",
    "# Compute the mean squared error of truth and pred series. \n",
    "truth = pd.Series(range(10))\n",
    "pred = pd.Series(range(10)) + np.random.random(10)\n",
    "\n",
    "np.mean((truth - pred) ** 2)"
   ]
  },
  {
   "cell_type": "code",
   "execution_count": 38,
   "id": "cbf1927c",
   "metadata": {},
   "outputs": [
    {
     "data": {
      "text/plain": [
       "0     How\n",
       "1      To\n",
       "2    Kick\n",
       "3    Ass?\n",
       "dtype: object"
      ]
     },
     "execution_count": 38,
     "metadata": {},
     "output_type": "execute_result"
    }
   ],
   "source": [
    "#18\n",
    "# Change the first character of each word to upper case in each word of ser.\n",
    "ser = pd.Series(['how', 'to', 'kick', 'ass?'])\n",
    "\n",
    "# ALternate method\n",
    "# pd.Series(i.title() for i in ser)\n",
    "\n",
    "# pd.Series(i[0].upper() + i[1:] for i in ser)\n",
    "\n",
    "ser.map(lambda x: x.title())"
   ]
  },
  {
   "cell_type": "code",
   "execution_count": 3,
   "id": "31b94f09",
   "metadata": {},
   "outputs": [
    {
     "data": {
      "text/plain": [
       "0    3\n",
       "1    2\n",
       "2    4\n",
       "3    4\n",
       "dtype: int64"
      ]
     },
     "execution_count": 3,
     "metadata": {},
     "output_type": "execute_result"
    }
   ],
   "source": [
    "#19\n",
    "# How to calculate the number of characters in each word in a series?\n",
    "ser = pd.Series(['how', 'to', 'kick', 'ass?'])\n",
    "ser.map(lambda x : len(x))"
   ]
  },
  {
   "cell_type": "code",
   "execution_count": 9,
   "id": "a7179b63",
   "metadata": {},
   "outputs": [
    {
     "data": {
      "text/plain": [
       "0    NaN\n",
       "1    NaN\n",
       "2    1.0\n",
       "3    1.0\n",
       "4    1.0\n",
       "5    1.0\n",
       "6    0.0\n",
       "7    2.0\n",
       "dtype: float64"
      ]
     },
     "execution_count": 9,
     "metadata": {},
     "output_type": "execute_result"
    }
   ],
   "source": [
    "#20\n",
    "# How to compute difference of differences between consequtive numbers of a series?\n",
    "# take the differences twice\n",
    "ser = pd.Series([1, 3, 6, 10, 15, 21, 27, 35])\n",
    "\n",
    "ser.diff().diff()"
   ]
  },
  {
   "cell_type": "code",
   "execution_count": 11,
   "id": "329f5853",
   "metadata": {},
   "outputs": [
    {
     "data": {
      "text/plain": [
       "0   2010-01-01 00:00:00\n",
       "1   2011-02-02 00:00:00\n",
       "2   2012-03-03 00:00:00\n",
       "3   2013-04-04 00:00:00\n",
       "4   2014-05-05 00:00:00\n",
       "5   2015-06-06 12:20:00\n",
       "dtype: datetime64[ns]"
      ]
     },
     "execution_count": 11,
     "metadata": {},
     "output_type": "execute_result"
    }
   ],
   "source": [
    "#21\n",
    "# How to convert a series of date-strings to a timeseries?\n",
    "ser = pd.Series(['01 Jan 2010', '02-02-2011', '20120303', '2013/04/04', '2014-05-05', '2015-06-06T12:20'])\n",
    "\n",
    "pd.to_datetime(ser)"
   ]
  },
  {
   "cell_type": "code",
   "execution_count": 2,
   "id": "3ec44fcc",
   "metadata": {},
   "outputs": [
    {
     "data": {
      "text/html": [
       "<div>\n",
       "<style scoped>\n",
       "    .dataframe tbody tr th:only-of-type {\n",
       "        vertical-align: middle;\n",
       "    }\n",
       "\n",
       "    .dataframe tbody tr th {\n",
       "        vertical-align: top;\n",
       "    }\n",
       "\n",
       "    .dataframe thead th {\n",
       "        text-align: right;\n",
       "    }\n",
       "</style>\n",
       "<table border=\"1\" class=\"dataframe\">\n",
       "  <thead>\n",
       "    <tr style=\"text-align: right;\">\n",
       "      <th></th>\n",
       "      <th>date</th>\n",
       "      <th>month</th>\n",
       "      <th>year</th>\n",
       "      <th>weekday</th>\n",
       "      <th>week_of_year</th>\n",
       "    </tr>\n",
       "  </thead>\n",
       "  <tbody>\n",
       "    <tr>\n",
       "      <th>0</th>\n",
       "      <td>2010-01-01 00:00:00</td>\n",
       "      <td>1</td>\n",
       "      <td>2010</td>\n",
       "      <td>4</td>\n",
       "      <td>53</td>\n",
       "    </tr>\n",
       "    <tr>\n",
       "      <th>1</th>\n",
       "      <td>2011-02-02 00:00:00</td>\n",
       "      <td>2</td>\n",
       "      <td>2011</td>\n",
       "      <td>2</td>\n",
       "      <td>5</td>\n",
       "    </tr>\n",
       "    <tr>\n",
       "      <th>2</th>\n",
       "      <td>2012-03-03 00:00:00</td>\n",
       "      <td>3</td>\n",
       "      <td>2012</td>\n",
       "      <td>5</td>\n",
       "      <td>9</td>\n",
       "    </tr>\n",
       "    <tr>\n",
       "      <th>3</th>\n",
       "      <td>2013-04-04 00:00:00</td>\n",
       "      <td>4</td>\n",
       "      <td>2013</td>\n",
       "      <td>3</td>\n",
       "      <td>14</td>\n",
       "    </tr>\n",
       "    <tr>\n",
       "      <th>4</th>\n",
       "      <td>2014-05-05 00:00:00</td>\n",
       "      <td>5</td>\n",
       "      <td>2014</td>\n",
       "      <td>0</td>\n",
       "      <td>19</td>\n",
       "    </tr>\n",
       "    <tr>\n",
       "      <th>5</th>\n",
       "      <td>2015-06-06 12:20:00</td>\n",
       "      <td>6</td>\n",
       "      <td>2015</td>\n",
       "      <td>5</td>\n",
       "      <td>23</td>\n",
       "    </tr>\n",
       "  </tbody>\n",
       "</table>\n",
       "</div>"
      ],
      "text/plain": [
       "                 date  month  year  weekday  week_of_year\n",
       "0 2010-01-01 00:00:00      1  2010        4            53\n",
       "1 2011-02-02 00:00:00      2  2011        2             5\n",
       "2 2012-03-03 00:00:00      3  2012        5             9\n",
       "3 2013-04-04 00:00:00      4  2013        3            14\n",
       "4 2014-05-05 00:00:00      5  2014        0            19\n",
       "5 2015-06-06 12:20:00      6  2015        5            23"
      ]
     },
     "execution_count": 2,
     "metadata": {},
     "output_type": "execute_result"
    }
   ],
   "source": [
    "#22\n",
    "# How to get the day of month, week number, day of year and day of week from a series of date strings?\n",
    "ser = pd.Series(['01 Jan 2010', '02-02-2011', '20120303', '2013/04/04', '2014-05-05', '2015-06-06T12:20'])\n",
    "\n",
    "import datetime\n",
    "df = pd.DataFrame(ser)\n",
    "df = df.rename(columns={0:'date'})\n",
    "df.date = pd.to_datetime(df.date)\n",
    "df['month'] = df.date.dt.month\n",
    "df['year'] = df.date.dt.year\n",
    "df['weekday'] = df.date.dt.weekday\n",
    "#df['week_of_year'] = df.date.dt.isocalendar().week\n",
    "df['week_of_year'] = df.date.dt.weekofyear\n",
    "\n",
    "df\n"
   ]
  },
  {
   "cell_type": "code",
   "execution_count": 9,
   "id": "f5d72222",
   "metadata": {},
   "outputs": [
    {
     "data": {
      "text/plain": [
       "0    04 Jan 2010\n",
       "1    04 Feb 2011\n",
       "2    04 Mar 2012\n",
       "dtype: object"
      ]
     },
     "execution_count": 9,
     "metadata": {},
     "output_type": "execute_result"
    }
   ],
   "source": [
    "#23\n",
    "# Change ser to dates that start with 4th of the respective months\n",
    "\n",
    "ser = pd.Series(['Jan 2010', 'Feb 2011', 'Mar 2012'])\n",
    "\n",
    "ser.map(lambda x: '04 ' + x)"
   ]
  },
  {
   "cell_type": "code",
   "execution_count": 18,
   "id": "03124135",
   "metadata": {},
   "outputs": [
    {
     "data": {
      "text/plain": [
       "0     Apple\n",
       "1    Orange\n",
       "4     Money\n",
       "dtype: object"
      ]
     },
     "execution_count": 18,
     "metadata": {},
     "output_type": "execute_result"
    }
   ],
   "source": [
    "#24\n",
    "# From ser, extract words that contain atleast 2 vowels.\n",
    "\n",
    "ser = pd.Series(['Apple', 'Orange', 'Plan', 'Python', 'Money'])\n",
    "\n",
    "from collections import Counter\n",
    "\n",
    "atleast2 = ser.map(lambda x: sum([Counter(x.lower()).get(i, 0) for i in list('aeiou')]) >=2)\n",
    "ser[atleast2]"
   ]
  },
  {
   "cell_type": "code",
   "execution_count": 3,
   "id": "a918fdc9",
   "metadata": {},
   "outputs": [
    {
     "data": {
      "text/plain": [
       "0                     []\n",
       "1    [rameses@egypt.com]\n",
       "2            [matt@t.co]\n",
       "3    [narendra@modi.com]\n",
       "dtype: object"
      ]
     },
     "execution_count": 3,
     "metadata": {},
     "output_type": "execute_result"
    }
   ],
   "source": [
    "#25\n",
    "# Extract the valid emails from the series emails. The regex pattern for valid emails is provided as reference.\n",
    "emails = pd.Series(['buying books at amazom.com', 'rameses@egypt.com', 'matt@t.co', 'narendra@modi.com'])\n",
    "pattern ='[A-Za-z0-9._%+-]+@[A-Za-z0-9.-]+\\\\.[A-Za-z]{2,4}'\n",
    "\n",
    "import re\n",
    "emails.str.findall(pattern, flags=re.IGNORECASE)"
   ]
  },
  {
   "cell_type": "code",
   "execution_count": null,
   "id": "8563b62c",
   "metadata": {},
   "outputs": [],
   "source": []
  }
 ],
 "metadata": {
  "kernelspec": {
   "display_name": "Python 3",
   "language": "python",
   "name": "python3"
  },
  "language_info": {
   "codemirror_mode": {
    "name": "ipython",
    "version": 3
   },
   "file_extension": ".py",
   "mimetype": "text/x-python",
   "name": "python",
   "nbconvert_exporter": "python",
   "pygments_lexer": "ipython3",
   "version": "3.8.8"
  }
 },
 "nbformat": 4,
 "nbformat_minor": 5
}
